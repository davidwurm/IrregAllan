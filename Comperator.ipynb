{
 "cells": [
  {
   "cell_type": "code",
   "execution_count": 18,
   "metadata": {
    "collapsed": true
   },
   "outputs": [],
   "source": [
    "import numpy as np\n",
    "import Irreg_Core\n",
    "import allantools"
   ]
  },
  {
   "cell_type": "code",
   "execution_count": 50,
   "metadata": {},
   "outputs": [
    {
     "name": "stdout",
     "output_type": "stream",
     "text": [
      "0.323584741364\n0.323584741364\n3.0\n1.0\n"
     ]
    }
   ],
   "source": [
    "nop=7\n",
    "times=np.array([i for i in xrange(nop)])\n",
    "data=np.array([np.random.ranf() for i in xrange(nop)])\n",
    "rate=(len(times)-1)/float(times[-1]-times[0])\n",
    "splitlist,tauminout = Irreg_Core.IrregAllanPrep(times,data,taumin=1.)\n",
    "oadev,eadev,taueff = Irreg_Core.singleAllan(splitlist,tauminout,m=3,maxpnts=np.inf)\n",
    "print oadev\n",
    "print eadev\n",
    "print taueff\n",
    "print rate"
   ]
  },
  {
   "cell_type": "code",
   "execution_count": 94,
   "metadata": {},
   "outputs": [
    {
     "name": "stdout",
     "output_type": "stream",
     "text": [
      "allan theo: 0.707107\n[ 1.]\nofficial: 1.414214\n[ 0.12964074]\nquickvalue: 1.414214\nrate 1.000000\nIrreg Oadev: 0.471405\n"
     ]
    }
   ],
   "source": [
    "m=1\n",
    "taus=[m]\n",
    "nop=120\n",
    "data=[(-1)**i for i in range(nop)]\n",
    "def altertheo(m):\n",
    "    return m*float(1)/np.sqrt(2.)\n",
    "print \"allan theo: %f\" %(altertheo(m))\n",
    "t2,ad,ade,adn=allantools.oadev(data,rate=rate,data_type='freq', taus=taus)\n",
    "print t2\n",
    "print \"official: %f\" % (ad)\n",
    "print ade\n",
    "quick=np.sqrt(0.5*np.mean([(np.mean(data[i:i+m])-np.mean(data[i+m:i+2*m]))**2 \n",
    "                          for i in range(0,len(data)-2*m)]))\n",
    "print \"quickvalue: %f\" %(quick)\n",
    "\n",
    "rate=(len(times)-1)/float(times[-1]-times[0])\n",
    "print \"rate %f\" % (rate)\n",
    "splitlist,tauminout = Irreg_Core.IrregAllanPrep(times,data,taumin=1.)\n",
    "oadev,eadev,taueff = Irreg_Core.singleAllan(splitlist,tauminout,m=3,maxpnts=np.inf)\n",
    "\n",
    "print \"Irreg Oadev: %f\" %(oadev)"
   ]
  },
  {
   "cell_type": "code",
   "execution_count": null,
   "metadata": {},
   "outputs": [],
   "source": [
    ""
   ]
  }
 ],
 "metadata": {
  "kernelspec": {
   "display_name": "Python 2",
   "language": "python",
   "name": "python2"
  },
  "language_info": {
   "codemirror_mode": {
    "name": "ipython",
    "version": 2.0
   },
   "file_extension": ".py",
   "mimetype": "text/x-python",
   "name": "python",
   "nbconvert_exporter": "python",
   "pygments_lexer": "ipython2",
   "version": "2.7.6"
  }
 },
 "nbformat": 4,
 "nbformat_minor": 0
}